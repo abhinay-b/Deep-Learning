{
 "cells": [
  {
   "cell_type": "markdown",
   "metadata": {},
   "source": [
    "<a href=\"http://cocl.us/pytorch_link_top\">\n",
    "    <img src=\"https://s3-api.us-geo.objectstorage.softlayer.net/cf-courses-data/CognitiveClass/DL0110EN/notebook_images%20/Pytochtop.png\" width=\"750\" alt=\"IBM Product \" />\n",
    "</a> "
   ]
  },
  {
   "cell_type": "markdown",
   "metadata": {},
   "source": [
    "<img src=\"https://s3-api.us-geo.objectstorage.softlayer.net/cf-courses-data/CognitiveClass/DL0110EN/notebook_images%20/cc-logo-square.png\" width=\"200\" alt=\"cognitiveclass.ai logo\" />"
   ]
  },
  {
   "cell_type": "markdown",
   "metadata": {},
   "source": [
    "<h1>Linear regression: Training and Validation Data</h1> "
   ]
  },
  {
   "cell_type": "markdown",
   "metadata": {},
   "source": [
    "<h2>Table of Contents</h2>\n",
    "<p>In this lab, you will learn to select the best learning rate by using validation data.</p>\n",
    "\n",
    "<ul>\n",
    "    <li><a href=\"#Makeup_Data\">Make Some Data</a></li>\n",
    "    <li><a href=\"#LR_Loader_Cost\">Create a Linear Regression Object, Data Loader and Criterion Function</a></li>\n",
    "    <li><a href=\"#LR_Hyper\">Different learning rates and Data Structures to Store results for Different Hyperparameters</a></li>\n",
    "    <li><a href=\"#Model\">Train different modules for different Hyperparameters</a></li>\n",
    "    <li><a href=\"#Result\">View Results</a></li>\n",
    "</ul>\n",
    "\n",
    "<p>Estimated Time Needed: <strong>30 min</strong></p>\n",
    "\n",
    "<hr>"
   ]
  },
  {
   "cell_type": "markdown",
   "metadata": {},
   "source": [
    "<h2>Preparation</h2>"
   ]
  },
  {
   "cell_type": "markdown",
   "metadata": {},
   "source": [
    "We'll need the following libraries and set the random seed."
   ]
  },
  {
   "cell_type": "code",
   "execution_count": 1,
   "metadata": {},
   "outputs": [],
   "source": [
    "# Import libraries we need for this lab, and set the random seed\n",
    "\n",
    "from torch import nn\n",
    "import torch\n",
    "import numpy as np\n",
    "import matplotlib.pyplot as plt\n",
    "from torch import nn,optim"
   ]
  },
  {
   "cell_type": "markdown",
   "metadata": {},
   "source": [
    "<!--Empty Space for separating topics-->"
   ]
  },
  {
   "cell_type": "markdown",
   "metadata": {},
   "source": [
    "<h2 id=\"Makeup_Data\">Make Some Data</h2>"
   ]
  },
  {
   "cell_type": "markdown",
   "metadata": {},
   "source": [
    "First, we'll create some artificial data in a dataset class. The class will include the option to produce training data or validation data. The training data will include outliers."
   ]
  },
  {
   "cell_type": "code",
   "execution_count": 2,
   "metadata": {},
   "outputs": [],
   "source": [
    "# Create Data class\n",
    "\n",
    "from torch.utils.data import Dataset, DataLoader\n",
    "\n",
    "class Data(Dataset):\n",
    "    \n",
    "    # Constructor\n",
    "    def __init__(self, train = True):\n",
    "            self.x = torch.arange(-3, 3, 0.1).view(-1, 1)\n",
    "            self.f = -3 * self.x + 1\n",
    "            self.y = self.f + 0.1 * torch.randn(self.x.size())\n",
    "            self.len = self.x.shape[0]\n",
    "            \n",
    "            #outliers \n",
    "            if train == True:\n",
    "                self.y[0] = 0\n",
    "                self.y[50:55] = 20\n",
    "            else:\n",
    "                pass\n",
    "      \n",
    "    # Getter\n",
    "    def __getitem__(self, index):    \n",
    "        return self.x[index], self.y[index]\n",
    "    \n",
    "    # Get Length\n",
    "    def __len__(self):\n",
    "        return self.len"
   ]
  },
  {
   "cell_type": "markdown",
   "metadata": {},
   "source": [
    "Create two objects: one that contains training data and a second that contains validation data. Assume that the training data has the outliers. "
   ]
  },
  {
   "cell_type": "code",
   "execution_count": 3,
   "metadata": {},
   "outputs": [],
   "source": [
    "# Create training dataset and validation dataset\n",
    "\n",
    "train_data = Data()\n",
    "val_data = Data(train = False)"
   ]
  },
  {
   "cell_type": "markdown",
   "metadata": {},
   "source": [
    "Overlay the training points in red over the function that generated the data. Notice the outliers at x=-3 and around x=2:"
   ]
  },
  {
   "cell_type": "code",
   "execution_count": 4,
   "metadata": {},
   "outputs": [
    {
     "data": {
      "image/png": "[encoded data removed]",
      "text/plain": [
       "<Figure size 432x288 with 1 Axes>"
      ]
     },
     "metadata": {
      "needs_background": "light"
     },
     "output_type": "display_data"
    }
   ],
   "source": [
    "# Plot out training points\n",
    "\n",
    "plt.plot(train_data.x.numpy(), train_data.y.numpy(), 'xr',label=\"training data \")\n",
    "plt.plot(train_data.x.numpy(), train_data.f.numpy(),label=\"true function  \")\n",
    "plt.xlabel('x')\n",
    "plt.ylabel('y')\n",
    "plt.legend()\n",
    "plt.show()"
   ]
  },
  {
   "cell_type": "markdown",
   "metadata": {},
   "source": [
    "<!--Empty Space for separating topics-->"
   ]
  },
  {
   "cell_type": "markdown",
   "metadata": {},
   "source": [
    "<h2 id=\"LR_Loader_Cost\">Create a Linear Regression Object,  Data Loader, and Criterion Function</h2>"
   ]
  },
  {
   "cell_type": "code",
   "execution_count": 5,
   "metadata": {},
   "outputs": [],
   "source": [
    "# Create Linear Regression Class\n",
    "\n",
    "from torch import nn\n",
    "\n",
    "class linear_regression(nn.Module):\n",
    "    \n",
    "    # Constructor\n",
    "    def __init__(self, input_size, output_size):\n",
    "        super(linear_regression, self).__init__()\n",
    "        self.linear = nn.Linear(input_size, output_size)\n",
    "    \n",
    "    # Prediction function\n",
    "    def forward(self, x):\n",
    "        yhat = self.linear(x)\n",
    "        return yhat"
   ]
  },
  {
   "cell_type": "markdown",
   "metadata": {},
   "source": [
    "Create the criterion function and a <code>DataLoader</code> object: "
   ]
  },
  {
   "cell_type": "code",
   "execution_count": 6,
   "metadata": {},
   "outputs": [],
   "source": [
    "# Create MSELoss function and DataLoader\n",
    "\n",
    "criterion = nn.MSELoss()\n",
    "trainloader = DataLoader(dataset = train_data, batch_size = 1)"
   ]
  },
  {
   "cell_type": "markdown",
   "metadata": {},
   "source": [
    "<!--Empty Space for separating topics-->"
   ]
  },
  {
   "cell_type": "markdown",
   "metadata": {},
   "source": [
    "<h2 id=\"LR_Hyper\">Different learning rates and Data Structures to Store results for different Hyperparameters</h2>"
   ]
  },
  {
   "cell_type": "markdown",
   "metadata": {},
   "source": [
    "Create a list with different learning rates and a tensor (can be a list) for the training and validating cost/total loss. Include the list MODELS, which stores the training model for every value of the learning rate. "
   ]
  },
  {
   "cell_type": "code",
   "execution_count": 7,
   "metadata": {},
   "outputs": [],
   "source": [
    "# Create Learning Rate list, the error lists and the MODELS list\n",
    "\n",
    "learning_rates=[0.0001, 0.001, 0.01, 0.1]\n",
    "\n",
    "train_error=torch.zeros(len(learning_rates))\n",
    "validation_error=torch.zeros(len(learning_rates))\n",
    "\n",
    "MODELS=[]"
   ]
  },
  {
   "cell_type": "markdown",
   "metadata": {},
   "source": [
    "<!--Empty Space for separating topics-->"
   ]
  },
  {
   "cell_type": "markdown",
   "metadata": {},
   "source": [
    "<h2 id=\"Model\">Train different models  for different Hyperparameters</h2>"
   ]
  },
  {
   "cell_type": "markdown",
   "metadata": {},
   "source": [
    "Try different values of learning rates, perform stochastic gradient descent, and save the results on the training data and validation data. Finally, save each model in a list."
   ]
  },
  {
   "cell_type": "code",
   "execution_count": 8,
   "metadata": {},
   "outputs": [],
   "source": [
    "# Define the train model function and train the model\n",
    "\n",
    "def train_model_with_lr (iter, lr_list):\n",
    "    \n",
    "    # iterate through different learning rates \n",
    "    for i, lr in enumerate(lr_list):\n",
    "        model = linear_regression(1, 1)\n",
    "        optimizer = optim.SGD(model.parameters(), lr = lr)\n",
    "        for epoch in range(iter):\n",
    "            for x, y in trainloader:\n",
    "                yhat = model(x)\n",
    "                loss = criterion(yhat, y)\n",
    "                optimizer.zero_grad()\n",
    "                loss.backward()\n",
    "                optimizer.step()\n",
    "                \n",
    "        # train data\n",
    "        Yhat = model(train_data.x)\n",
    "        train_loss = criterion(Yhat, train_data.y)\n",
    "        train_error[i] = train_loss.item()\n",
    "    \n",
    "        # validation data\n",
    "        Yhat = model(val_data.x)\n",
    "        val_loss = criterion(Yhat, val_data.y)\n",
    "        validation_error[i] = val_loss.item()\n",
    "        MODELS.append(model)\n",
    "\n",
    "train_model_with_lr(10, learning_rates)"
   ]
  },
  {
   "cell_type": "markdown",
   "metadata": {},
   "source": [
    "<!--Empty Space for separating topics-->"
   ]
  },
  {
   "cell_type": "markdown",
   "metadata": {},
   "source": [
    "<h2 id=\"Result\">View the Results</h2>"
   ]
  },
  {
   "cell_type": "markdown",
   "metadata": {},
   "source": [
    "Plot the training loss and validation loss for each learning rate:  "
   ]
  },
  {
   "cell_type": "code",
   "execution_count": 9,
   "metadata": {},
   "outputs": [
    {
     "data": {
      "image/png": "[encoded data removed]",
      "text/plain": [
       "<Figure size 432x288 with 1 Axes>"
      ]
     },
     "metadata": {
      "needs_background": "light"
     },
     "output_type": "display_data"
    }
   ],
   "source": [
    "# Plot the training loss and validation loss\n",
    "\n",
    "plt.semilogx(np.array(learning_rates), train_error.numpy(), label = 'training loss/total Loss')\n",
    "plt.semilogx(np.array(learning_rates), validation_error.numpy(), label = 'validation cost/total Loss')\n",
    "plt.ylabel('Cost\\ Total Loss')\n",
    "plt.xlabel('learning rate')\n",
    "plt.legend()\n",
    "plt.show()"
   ]
  },
  {
   "cell_type": "markdown",
   "metadata": {},
   "source": [
    "Produce a prediction by using the validation data for each model:  "
   ]
  },
  {
   "cell_type": "code",
   "execution_count": 10,
   "metadata": {},
   "outputs": [
    {
     "name": "stdout",
     "output_type": "stream",
     "text": [
      "i [[2.2443728]\n",
      " [2.1688404]\n",
      " [2.093308 ]]\n",
      "i [[5.4579453]\n",
      " [5.3395147]\n",
      " [5.2210836]]\n",
      "i [[6.574623 ]\n",
      " [6.441147 ]\n",
      " [6.3076696]]\n",
      "i [[14.086562]\n",
      " [13.664578]\n",
      " [13.242594]]\n"
     ]
    },
    {
     "data": {
      "image/png": "[encoded data removed]",
      "text/plain": [
       "<Figure size 432x288 with 1 Axes>"
      ]
     },
     "metadata": {
      "needs_background": "light"
     },
     "output_type": "display_data"
    }
   ],
   "source": [
    "# Plot the predictions\n",
    "\n",
    "i = 0\n",
    "for model, learning_rate in zip(MODELS, learning_rates):\n",
    "    yhat = model(val_data.x)\n",
    "    plt.plot(val_data.x.numpy(), yhat.detach().numpy(), label = 'lr:' + str(learning_rate))\n",
    "    print('i', yhat.detach().numpy()[0:3])\n",
    "plt.plot(val_data.x.numpy(), val_data.f.numpy(), 'or', label = 'validation data')\n",
    "plt.xlabel('x')\n",
    "plt.ylabel('y')\n",
    "plt.legend()\n",
    "plt.show()"
   ]
  },
  {
   "cell_type": "markdown",
   "metadata": {},
   "source": [
    "<!--Empty Space for separating topics-->"
   ]
  },
  {
   "cell_type": "markdown",
   "metadata": {},
   "source": [
    "<h3>Practice</h3>"
   ]
  },
  {
   "cell_type": "markdown",
   "metadata": {},
   "source": [
    "The object <code>good_model</code> is the best performing model. Use the train loader to get the data samples x and y. Produce an estimate for <code>yhat</code> and print it out for every sample in a for a loop. Compare it to the actual prediction <code>y</code>."
   ]
  },
  {
   "cell_type": "code",
   "execution_count": 26,
   "metadata": {},
   "outputs": [
    {
     "name": "stdout",
     "output_type": "stream",
     "text": [
      "yhat=  tensor([[14.0866]], grad_fn=<AddmmBackward>) y tensor([[0.]])\n",
      "yhat=  tensor([[13.6646]], grad_fn=<AddmmBackward>) y tensor([[9.7459]])\n",
      "yhat=  tensor([[13.2426]], grad_fn=<AddmmBackward>) y tensor([[9.4011]])\n",
      "yhat=  tensor([[12.8206]], grad_fn=<AddmmBackward>) y tensor([[9.0503]])\n",
      "yhat=  tensor([[12.3986]], grad_fn=<AddmmBackward>) y tensor([[8.9524]])\n",
      "yhat=  tensor([[11.9766]], grad_fn=<AddmmBackward>) y tensor([[8.5224]])\n",
      "yhat=  tensor([[11.5547]], grad_fn=<AddmmBackward>) y tensor([[8.1674]])\n",
      "yhat=  tensor([[11.1327]], grad_fn=<AddmmBackward>) y tensor([[7.8745]])\n",
      "yhat=  tensor([[10.7107]], grad_fn=<AddmmBackward>) y tensor([[7.6215]])\n",
      "yhat=  tensor([[10.2887]], grad_fn=<AddmmBackward>) y tensor([[7.2219]])\n",
      "yhat=  tensor([[9.8667]], grad_fn=<AddmmBackward>) y tensor([[7.1830]])\n",
      "yhat=  tensor([[9.4447]], grad_fn=<AddmmBackward>) y tensor([[6.7345]])\n",
      "yhat=  tensor([[9.0228]], grad_fn=<AddmmBackward>) y tensor([[6.2675]])\n",
      "yhat=  tensor([[8.6008]], grad_fn=<AddmmBackward>) y tensor([[6.2138]])\n",
      "yhat=  tensor([[8.1788]], grad_fn=<AddmmBackward>) y tensor([[5.8610]])\n",
      "yhat=  tensor([[7.7568]], grad_fn=<AddmmBackward>) y tensor([[5.4666]])\n",
      "yhat=  tensor([[7.3348]], grad_fn=<AddmmBackward>) y tensor([[4.9777]])\n",
      "yhat=  tensor([[6.9128]], grad_fn=<AddmmBackward>) y tensor([[5.0140]])\n",
      "yhat=  tensor([[6.4908]], grad_fn=<AddmmBackward>) y tensor([[4.5018]])\n",
      "yhat=  tensor([[6.0689]], grad_fn=<AddmmBackward>) y tensor([[4.3149]])\n",
      "yhat=  tensor([[5.6469]], grad_fn=<AddmmBackward>) y tensor([[4.0636]])\n",
      "yhat=  tensor([[5.2249]], grad_fn=<AddmmBackward>) y tensor([[3.7740]])\n",
      "yhat=  tensor([[4.8029]], grad_fn=<AddmmBackward>) y tensor([[3.2824]])\n",
      "yhat=  tensor([[4.3809]], grad_fn=<AddmmBackward>) y tensor([[3.1535]])\n",
      "yhat=  tensor([[3.9589]], grad_fn=<AddmmBackward>) y tensor([[2.7700]])\n",
      "yhat=  tensor([[3.5370]], grad_fn=<AddmmBackward>) y tensor([[2.6269]])\n",
      "yhat=  tensor([[3.1150]], grad_fn=<AddmmBackward>) y tensor([[2.1868]])\n",
      "yhat=  tensor([[2.6930]], grad_fn=<AddmmBackward>) y tensor([[1.8439]])\n",
      "yhat=  tensor([[2.2710]], grad_fn=<AddmmBackward>) y tensor([[1.7525]])\n",
      "yhat=  tensor([[1.8490]], grad_fn=<AddmmBackward>) y tensor([[1.2492]])\n",
      "yhat=  tensor([[1.4270]], grad_fn=<AddmmBackward>) y tensor([[0.9387]])\n",
      "yhat=  tensor([[1.0051]], grad_fn=<AddmmBackward>) y tensor([[0.6467]])\n",
      "yhat=  tensor([[0.5831]], grad_fn=<AddmmBackward>) y tensor([[0.4810]])\n",
      "yhat=  tensor([[0.1611]], grad_fn=<AddmmBackward>) y tensor([[0.1060]])\n",
      "yhat=  tensor([[-0.2609]], grad_fn=<AddmmBackward>) y tensor([[-0.2261]])\n",
      "yhat=  tensor([[-0.6829]], grad_fn=<AddmmBackward>) y tensor([[-0.7180]])\n",
      "yhat=  tensor([[-1.1049]], grad_fn=<AddmmBackward>) y tensor([[-0.8642]])\n",
      "yhat=  tensor([[-1.5268]], grad_fn=<AddmmBackward>) y tensor([[-1.2741]])\n",
      "yhat=  tensor([[-1.9488]], grad_fn=<AddmmBackward>) y tensor([[-1.3442]])\n",
      "yhat=  tensor([[-2.3708]], grad_fn=<AddmmBackward>) y tensor([[-1.7360]])\n",
      "yhat=  tensor([[-2.7928]], grad_fn=<AddmmBackward>) y tensor([[-1.9388]])\n",
      "yhat=  tensor([[-3.2148]], grad_fn=<AddmmBackward>) y tensor([[-2.5225]])\n",
      "yhat=  tensor([[-3.6368]], grad_fn=<AddmmBackward>) y tensor([[-2.6900]])\n",
      "yhat=  tensor([[-4.0587]], grad_fn=<AddmmBackward>) y tensor([[-2.8463]])\n",
      "yhat=  tensor([[-4.4807]], grad_fn=<AddmmBackward>) y tensor([[-3.1470]])\n",
      "yhat=  tensor([[-4.9027]], grad_fn=<AddmmBackward>) y tensor([[-3.4410]])\n",
      "yhat=  tensor([[-5.3247]], grad_fn=<AddmmBackward>) y tensor([[-3.7625]])\n",
      "yhat=  tensor([[-5.7467]], grad_fn=<AddmmBackward>) y tensor([[-3.8683]])\n",
      "yhat=  tensor([[-6.1687]], grad_fn=<AddmmBackward>) y tensor([[-4.4862]])\n",
      "yhat=  tensor([[-6.5907]], grad_fn=<AddmmBackward>) y tensor([[-4.7881]])\n",
      "yhat=  tensor([[-7.0126]], grad_fn=<AddmmBackward>) y tensor([[20.]])\n",
      "yhat=  tensor([[-7.4346]], grad_fn=<AddmmBackward>) y tensor([[20.]])\n",
      "yhat=  tensor([[-7.8566]], grad_fn=<AddmmBackward>) y tensor([[20.]])\n",
      "yhat=  tensor([[-8.2786]], grad_fn=<AddmmBackward>) y tensor([[20.]])\n",
      "yhat=  tensor([[-8.7006]], grad_fn=<AddmmBackward>) y tensor([[20.]])\n",
      "yhat=  tensor([[-9.1226]], grad_fn=<AddmmBackward>) y tensor([[-6.3470]])\n",
      "yhat=  tensor([[-9.5445]], grad_fn=<AddmmBackward>) y tensor([[-6.8236]])\n",
      "yhat=  tensor([[-9.9665]], grad_fn=<AddmmBackward>) y tensor([[-7.1388]])\n",
      "yhat=  tensor([[-10.3885]], grad_fn=<AddmmBackward>) y tensor([[-7.4171]])\n",
      "yhat=  tensor([[-10.8105]], grad_fn=<AddmmBackward>) y tensor([[-7.5856]])\n"
     ]
    }
   ],
   "source": [
    "index = torch.argmin(validation_error)\n",
    "good_model = MODELS[index]\n",
    "for x, y in trainloader:\n",
    "    print(\"yhat= \", good_model(x),\"y\", y)"
   ]
  },
  {
   "cell_type": "markdown",
   "metadata": {},
   "source": [
    "Double-click <b>here</b> for the solution.\n",
    "\n",
    "<!-- \n",
    "for x, y in trainloader:\n",
    "    print(\"yhat= \", good_model(x),\"y\", y)\n",
    "-->"
   ]
  },
  {
   "cell_type": "markdown",
   "metadata": {},
   "source": [
    "<!--Empty Space for separating topics-->"
   ]
  },
  {
   "cell_type": "markdown",
   "metadata": {},
   "source": [
    "<a href=\"http://cocl.us/pytorch_link_bottom\">\n",
    "    <img src=\"https://s3-api.us-geo.objectstorage.softlayer.net/cf-courses-data/CognitiveClass/DL0110EN/notebook_images%20/notebook_bottom%20.png\" width=\"750\" alt=\"PyTorch Bottom\" />\n",
    "</a>"
   ]
  },
  {
   "cell_type": "markdown",
   "metadata": {},
   "source": [
    "<h2>About the Authors:</h2> \n",
    "\n",
    "<a href=\"https://www.linkedin.com/in/joseph-s-50398b136/\">Joseph Santarcangelo</a> has a PhD in Electrical Engineering, his research focused on using machine learning, signal processing, and computer vision to determine how videos impact human cognition. Joseph has been working for IBM since he completed his PhD. "
   ]
  },
  {
   "cell_type": "markdown",
   "metadata": {},
   "source": [
    "Other contributors: <a href=\"https://www.linkedin.com/in/michelleccarey/\">Michelle Carey</a>, <a href=\"www.linkedin.com/in/jiahui-mavis-zhou-a4537814a\">Mavis Zhou</a>"
   ]
  },
  {
   "cell_type": "markdown",
   "metadata": {},
   "source": [
    "<hr>"
   ]
  },
  {
   "cell_type": "markdown",
   "metadata": {},
   "source": [
    "Copyright &copy; 2018 <a href=\"cognitiveclass.ai?utm_source=bducopyrightlink&utm_medium=dswb&utm_campaign=bdu\">cognitiveclass.ai</a>. This notebook and its source code are released under the terms of the <a href=\"https://bigdatauniversity.com/mit-license/\">MIT License</a>."
   ]
  }
 ],
 "metadata": {
  "kernelspec": {
   "display_name": "Python",
   "language": "python",
   "name": "conda-env-python-py"
  },
  "language_info": {
   "codemirror_mode": {
    "name": "ipython",
    "version": 3
   },
   "file_extension": ".py",
   "mimetype": "text/x-python",
   "name": "python",
   "nbconvert_exporter": "python",
   "pygments_lexer": "ipython3",
   "version": "3.6.10"
  }
 },
 "nbformat": 4,
 "nbformat_minor": 4
}
